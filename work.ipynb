{
 "cells": [
  {
   "cell_type": "code",
   "execution_count": null,
   "metadata": {},
   "outputs": [],
   "source": [
    "import pandas as pd\n",
    "import tensorflow_decision_forests as tfdf"
   ]
  },
  {
   "cell_type": "code",
   "execution_count": null,
   "metadata": {},
   "outputs": [],
   "source": [
    "df_train = pd.read_csv('train.csv')\n",
    "df_test = pd.read_csv('test.csv')\n",
    "\n",
    "mapper = {'L':1, 'M':2, 'H':3}\n",
    "df_train.Type = df_train.Type.map(mapper)\n",
    "df_test.Type = df_test.Type.map(mapper)\n",
    "\n",
    "df_treetrain = df_train[df_train.columns[2:9]]\n",
    "df_treetrain.rename(columns={'Machine failure':'Failure'}, inplace=True)\n",
    "\n",
    "df_treetest = df_test[df_test.columns[2:8]]"
   ]
  },
  {
   "cell_type": "code",
   "execution_count": null,
   "metadata": {},
   "outputs": [],
   "source": [
    "dataset_train = tfdf.keras.pd_dataframe_to_tf_dataset(df_treetrain, label='Failure')\n",
    "model = tfdf.keras.RandomForestModel()\n",
    "model.fit(dataset_train)\n",
    "\n",
    "dataset_test = tfdf.keras.pd_dataframe_to_tf_dataset(df_treetest)\n",
    "results = model.predict(dataset_test)"
   ]
  },
  {
   "cell_type": "code",
   "execution_count": 60,
   "metadata": {},
   "outputs": [],
   "source": [
    "submission_df = pd.DataFrame({'id':df_test['id'], 'Machine failure': results.flatten()})\n",
    "submission_df.to_csv('submission.csv', index=False)"
   ]
  }
 ],
 "metadata": {
  "kernelspec": {
   "display_name": "Python 3",
   "language": "python",
   "name": "python3"
  },
  "language_info": {
   "codemirror_mode": {
    "name": "ipython",
    "version": 3
   },
   "file_extension": ".py",
   "mimetype": "text/x-python",
   "name": "python",
   "nbconvert_exporter": "python",
   "pygments_lexer": "ipython3",
   "version": "3.10.12"
  }
 },
 "nbformat": 4,
 "nbformat_minor": 2
}
